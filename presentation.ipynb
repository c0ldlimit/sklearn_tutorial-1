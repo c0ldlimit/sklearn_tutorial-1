{
 "metadata": {
  "name": "presentation"
 },
 "nbformat": 3,
 "nbformat_minor": 0,
 "worksheets": [
  {
   "cells": [
    {
     "cell_type": "markdown",
     "metadata": {
      "slideshow": {
       "slide_type": "slide"
      }
     },
     "source": [
      "Machine Learning with scikit-learn\n",
      "===================================\n",
      "Andreas Mueller\n",
      "\n",
      "t3kcit@gmail.com"
     ]
    },
    {
     "cell_type": "markdown",
     "metadata": {
      "slideshow": {
       "slide_type": "slide"
      }
     },
     "source": [
      "scikit-learn\n",
      "============\n",
      "* Collection of machine learning algorithms and tools.\n",
      "* BSD Licensed, used in industry (Spotify, bit.ly, Evernote).\n",
      "* ~20 core developers.\n",
      "* Take pride in good code and documentation.\n",
      "* We want YOU to participate!\n"
     ]
    },
    {
     "cell_type": "markdown",
     "metadata": {
      "slideshow": {
       "slide_type": "slide"
      }
     },
     "source": [
      "Overview\n",
      "========\n",
      "* Basic concepts of machine learning\n",
      "* Introduction to scikit-learn\n",
      "* Some usefull algorithms\n",
      "* Selecting a model\n",
      "* Get to the leaderboard in 10 minutes"
     ]
    },
    {
     "cell_type": "markdown",
     "metadata": {
      "slideshow": {
       "slide_type": "slide"
      }
     },
     "source": [
      "Two (three) kinds of learning\n",
      "=============================\n",
      "* Supervised\n",
      "* Unsupervised\n",
      "* Reinforcement\n"
     ]
    },
    {
     "cell_type": "markdown",
     "metadata": {
      "slideshow": {
       "slide_type": "slide"
      }
     },
     "source": [
      "\n",
      "Supervised learning\n",
      "====================\n",
      "\n",
      "Examples\n",
      "---------\n",
      "\n",
      "* Classification (spam, sentiment analysis, ...)\n",
      "* Regression (stocks, sales, ...)\n",
      "* Ranking (retrieval, search, ...)\n",
      "\n",
      "Training: Examples X together with labels y.\n",
      "\n",
      "Testing: Given X, predict y.\n"
     ]
    },
    {
     "cell_type": "markdown",
     "metadata": {
      "slideshow": {
       "slide_type": "slide"
      }
     },
     "source": [
      "Unsupervised Learning\n",
      "=====================\n",
      "Examples\n",
      "--------\n",
      "* Dimensionality reduction\n",
      "* Clustering\n",
      "* Manifold learning\n",
      "\n",
      "Examples X.\n",
      "Learn something about X."
     ]
    },
    {
     "cell_type": "markdown",
     "metadata": {
      "slideshow": {
       "slide_type": "slide"
      }
     },
     "source": [
      "cheat sheet here"
     ]
    },
    {
     "cell_type": "markdown",
     "metadata": {
      "slideshow": {
       "slide_type": "slide"
      }
     },
     "source": [
      "Data representation\n",
      "===================\n",
      "**Everything** is a **numpy array** (or a scipy sparse matrix)!\n",
      "\n",
      "Let's get some toy data."
     ]
    },
    {
     "cell_type": "code",
     "collapsed": false,
     "input": [
      "from sklearn.datasets import load_digits\n",
      "digits = load_digits()\n",
      "X, y = digits.data / 16., digits.target"
     ],
     "language": "python",
     "metadata": {
      "slideshow": {
       "slide_type": "fragment"
      }
     },
     "outputs": [],
     "prompt_number": 69
    },
    {
     "cell_type": "code",
     "collapsed": false,
     "input": [
      "X"
     ],
     "language": "python",
     "metadata": {
      "slideshow": {
       "slide_type": "fragment"
      }
     },
     "outputs": [
      {
       "output_type": "pyout",
       "prompt_number": 2,
       "text": [
        "array([[ 0.    ,  0.    ,  0.3125, ...,  0.    ,  0.    ,  0.    ],\n",
        "       [ 0.    ,  0.    ,  0.    , ...,  0.625 ,  0.    ,  0.    ],\n",
        "       [ 0.    ,  0.    ,  0.    , ...,  1.    ,  0.5625,  0.    ],\n",
        "       ..., \n",
        "       [ 0.    ,  0.    ,  0.0625, ...,  0.375 ,  0.    ,  0.    ],\n",
        "       [ 0.    ,  0.    ,  0.125 , ...,  0.75  ,  0.    ,  0.    ],\n",
        "       [ 0.    ,  0.    ,  0.625 , ...,  0.75  ,  0.0625,  0.    ]])"
       ]
      }
     ],
     "prompt_number": 2
    },
    {
     "cell_type": "code",
     "collapsed": false,
     "input": [
      "X.shape"
     ],
     "language": "python",
     "metadata": {
      "slideshow": {
       "slide_type": "fragment"
      }
     },
     "outputs": [
      {
       "output_type": "pyout",
       "prompt_number": 3,
       "text": [
        "(1797, 64)"
       ]
      }
     ],
     "prompt_number": 3
    },
    {
     "cell_type": "code",
     "collapsed": false,
     "input": [
      "y"
     ],
     "language": "python",
     "metadata": {
      "slideshow": {
       "slide_type": "fragment"
      }
     },
     "outputs": [
      {
       "output_type": "pyout",
       "prompt_number": 4,
       "text": [
        "array([0, 1, 2, ..., 8, 9, 8])"
       ]
      }
     ],
     "prompt_number": 4
    },
    {
     "cell_type": "code",
     "collapsed": false,
     "input": [
      "y.shape"
     ],
     "language": "python",
     "metadata": {
      "slideshow": {
       "slide_type": "fragment"
      }
     },
     "outputs": [
      {
       "output_type": "pyout",
       "prompt_number": 5,
       "text": [
        "(1797,)"
       ]
      }
     ],
     "prompt_number": 5
    },
    {
     "cell_type": "markdown",
     "metadata": {
      "slideshow": {
       "slide_type": "slide"
      }
     },
     "source": [
      "What is that X?\n",
      "---------------"
     ]
    },
    {
     "cell_type": "code",
     "collapsed": false,
     "input": [
      "X[0, :]"
     ],
     "language": "python",
     "metadata": {
      "slideshow": {
       "slide_type": "fragment"
      }
     },
     "outputs": [
      {
       "output_type": "pyout",
       "prompt_number": 6,
       "text": [
        "array([ 0.    ,  0.    ,  0.3125,  0.8125,  0.5625,  0.0625,  0.    ,\n",
        "        0.    ,  0.    ,  0.    ,  0.8125,  0.9375,  0.625 ,  0.9375,\n",
        "        0.3125,  0.    ,  0.    ,  0.1875,  0.9375,  0.125 ,  0.    ,\n",
        "        0.6875,  0.5   ,  0.    ,  0.    ,  0.25  ,  0.75  ,  0.    ,\n",
        "        0.    ,  0.5   ,  0.5   ,  0.    ,  0.    ,  0.3125,  0.5   ,\n",
        "        0.    ,  0.    ,  0.5625,  0.5   ,  0.    ,  0.    ,  0.25  ,\n",
        "        0.6875,  0.    ,  0.0625,  0.75  ,  0.4375,  0.    ,  0.    ,\n",
        "        0.125 ,  0.875 ,  0.3125,  0.625 ,  0.75  ,  0.    ,  0.    ,\n",
        "        0.    ,  0.    ,  0.375 ,  0.8125,  0.625 ,  0.    ,  0.    ,  0.    ])"
       ]
      }
     ],
     "prompt_number": 6
    },
    {
     "cell_type": "markdown",
     "metadata": {
      "slideshow": {
       "slide_type": "slide"
      }
     },
     "source": [
      "What is that X?\n",
      "================"
     ]
    },
    {
     "cell_type": "code",
     "collapsed": false,
     "input": [
      "plt.matshow(X[0, :].reshape(8, 8), cmap=plt.cm.Greys)"
     ],
     "language": "python",
     "metadata": {
      "slideshow": {
       "slide_type": "-"
      }
     },
     "outputs": [
      {
       "output_type": "pyout",
       "prompt_number": 65,
       "text": [
        "<matplotlib.image.AxesImage at 0x7360ed0>"
       ]
      },
      {
       "output_type": "display_data",
       "png": "[encoded data removed]",
       "text": [
        "<matplotlib.figure.Figure at 0x66e61d0>"
       ]
      }
     ],
     "prompt_number": 65
    },
    {
     "cell_type": "code",
     "collapsed": false,
     "input": [
      "y[0]"
     ],
     "language": "python",
     "metadata": {
      "slideshow": {
       "slide_type": "fragment"
      }
     },
     "outputs": [
      {
       "output_type": "pyout",
       "prompt_number": 8,
       "text": [
        "0"
       ]
      }
     ],
     "prompt_number": 8
    },
    {
     "cell_type": "code",
     "collapsed": false,
     "input": [
      "X.shape"
     ],
     "language": "python",
     "metadata": {
      "slideshow": {
       "slide_type": "fragment"
      }
     },
     "outputs": [
      {
       "output_type": "pyout",
       "prompt_number": 9,
       "text": [
        "(1797, 64)"
       ]
      }
     ],
     "prompt_number": 9
    },
    {
     "cell_type": "markdown",
     "metadata": {
      "slideshow": {
       "slide_type": "fragment"
      }
     },
     "source": [
      "We have 1797 data points, each an 8x8 image -> 64 dimensional vector.\n",
      "\n",
      "``X.shape`` is always ``(n_samples, n_feature)``."
     ]
    },
    {
     "cell_type": "markdown",
     "metadata": {
      "slideshow": {
       "slide_type": "slide"
      }
     },
     "source": [
      "Taking a Peek\n",
      "==============\n",
      "Dimensionality Reduction and Manifold Learning\n",
      "=============================================================\n",
      "* Always first have a look at your data!\n",
      "* Projecting to two dimensions is the easiest way."
     ]
    },
    {
     "cell_type": "markdown",
     "metadata": {
      "slideshow": {
       "slide_type": "slide"
      }
     },
     "source": [
      "Principal Component Analysis (PCA)\n",
      "===================================="
     ]
    },
    {
     "cell_type": "code",
     "collapsed": false,
     "input": [
      "from sklearn.decomposition import PCA"
     ],
     "language": "python",
     "metadata": {
      "slideshow": {
       "slide_type": "-"
      }
     },
     "outputs": [],
     "prompt_number": 10
    },
    {
     "cell_type": "code",
     "collapsed": false,
     "input": [
      "pca = PCA(n_components=2)\n",
      "pca.fit(X)\n",
      "X_pca = pca.transform(X)\n",
      "X_pca.shape"
     ],
     "language": "python",
     "metadata": {
      "slideshow": {
       "slide_type": "fragment"
      }
     },
     "outputs": [
      {
       "output_type": "pyout",
       "prompt_number": 11,
       "text": [
        "(1797, 2)"
       ]
      }
     ],
     "prompt_number": 11
    },
    {
     "cell_type": "code",
     "collapsed": false,
     "input": [
      "plt.scatter(X_pca[:, 0], X_pca[:, 1], c=y);"
     ],
     "language": "python",
     "metadata": {
      "slideshow": {
       "slide_type": "fragment"
      }
     },
     "outputs": [
      {
       "output_type": "display_data",
       "png": "[encoded data removed]",
       "text": [
        "<matplotlib.figure.Figure at 0x3be4c90>"
       ]
      }
     ],
     "prompt_number": 12
    },
    {
     "cell_type": "code",
     "collapsed": false,
     "input": [
      "print(pca.mean_.shape)\n",
      "print(pca.components_.shape)"
     ],
     "language": "python",
     "metadata": {
      "slideshow": {
       "slide_type": "slide"
      }
     },
     "outputs": [
      {
       "output_type": "stream",
       "stream": "stdout",
       "text": [
        "(64,)\n",
        "(2, 64)\n"
       ]
      }
     ],
     "prompt_number": 13
    },
    {
     "cell_type": "code",
     "collapsed": false,
     "input": [
      "fix, ax = plt.subplots(1, 3)\n",
      "ax[0].matshow(pca.mean_.reshape(8, 8))\n",
      "ax[1].matshow(pca.components_[0, :].reshape(8, 8))\n",
      "ax[2].matshow(pca.components_[1, :].reshape(8, 8))"
     ],
     "language": "python",
     "metadata": {
      "slideshow": {
       "slide_type": "fragment"
      }
     },
     "outputs": [
      {
       "output_type": "pyout",
       "prompt_number": 14,
       "text": [
        "<matplotlib.image.AxesImage at 0x48ea2d0>"
       ]
      },
      {
       "output_type": "display_data",
       "png": "[encoded data removed]",
       "text": [
        "<matplotlib.figure.Figure at 0x3be3990>"
       ]
      }
     ],
     "prompt_number": 14
    },
    {
     "cell_type": "markdown",
     "metadata": {
      "slideshow": {
       "slide_type": "slide"
      }
     },
     "source": [
      "Isomap\n",
      "======"
     ]
    },
    {
     "cell_type": "code",
     "collapsed": false,
     "input": [
      "from sklearn.manifold import Isomap"
     ],
     "language": "python",
     "metadata": {},
     "outputs": [],
     "prompt_number": 15
    },
    {
     "cell_type": "code",
     "collapsed": false,
     "input": [
      "isomap = Isomap(n_neighbors=20)\n",
      "X_isomap = isomap.fit_transform(X)\n",
      "X_isomap.shape"
     ],
     "language": "python",
     "metadata": {
      "slideshow": {
       "slide_type": "fragment"
      }
     },
     "outputs": [
      {
       "output_type": "pyout",
       "prompt_number": 16,
       "text": [
        "(1797, 2)"
       ]
      }
     ],
     "prompt_number": 16
    },
    {
     "cell_type": "code",
     "collapsed": false,
     "input": [
      "plt.scatter(X_isomap[:, 0], X_isomap[:, 1], c=y)"
     ],
     "language": "python",
     "metadata": {
      "slideshow": {
       "slide_type": "fragment"
      }
     },
     "outputs": [
      {
       "output_type": "pyout",
       "prompt_number": 17,
       "text": [
        "<matplotlib.collections.PathCollection at 0x49966d0>"
       ]
      },
      {
       "output_type": "display_data",
       "png": "[encoded data removed]",
       "text": [
        "<matplotlib.figure.Figure at 0x453cc90>"
       ]
      }
     ],
     "prompt_number": 17
    },
    {
     "cell_type": "markdown",
     "metadata": {
      "slideshow": {
       "slide_type": "slide"
      }
     },
     "source": [
      "Classification\n",
      "==============="
     ]
    },
    {
     "cell_type": "markdown",
     "metadata": {
      "slideshow": {
       "slide_type": "fragment"
      }
     },
     "source": [
      "To evaluate the algorithm, split data into training and testing part."
     ]
    },
    {
     "cell_type": "code",
     "collapsed": false,
     "input": [
      "from sklearn.cross_validation import train_test_split\n",
      "X_train, X_test, y_train, y_test = train_test_split(X, y)"
     ],
     "language": "python",
     "metadata": {
      "slideshow": {
       "slide_type": "fragment"
      }
     },
     "outputs": [],
     "prompt_number": 71
    },
    {
     "cell_type": "code",
     "collapsed": false,
     "input": [
      "print(\"X_train shape: %s\" % repr(X_train.shape))\n",
      "print(\"y_train shape: %s\" % repr(y_train.shape))\n",
      "print(\"X_test shape: %s\" % repr(X_test.shape))\n",
      "print(\"y_test shape: %s\" % repr(y_test.shape))"
     ],
     "language": "python",
     "metadata": {
      "slideshow": {
       "slide_type": "fragment"
      }
     },
     "outputs": [
      {
       "output_type": "stream",
       "stream": "stdout",
       "text": [
        "X_train shape: (1347, 64)\n",
        "y_train shape: (1347,)\n",
        "X_test shape: (450, 64)\n",
        "y_test shape: (450,)\n"
       ]
      }
     ],
     "prompt_number": 72
    },
    {
     "cell_type": "markdown",
     "metadata": {
      "slideshow": {
       "slide_type": "slide"
      }
     },
     "source": [
      "Start Simple: Nearest Neighbors\n",
      "===============================\n",
      "Basically remembers the training data and predicts on test data according to neighboring data points."
     ]
    },
    {
     "cell_type": "code",
     "collapsed": false,
     "input": [
      "from sklearn.neighbors import KNeighborsClassifier\n",
      "knn = KNeighborsClassifier(n_neighbors=3)"
     ],
     "language": "python",
     "metadata": {
      "slideshow": {
       "slide_type": "fragment"
      }
     },
     "outputs": [],
     "prompt_number": 73
    },
    {
     "cell_type": "code",
     "collapsed": false,
     "input": [
      "knn.fit(X_train, y_train)"
     ],
     "language": "python",
     "metadata": {
      "slideshow": {
       "slide_type": "fragment"
      }
     },
     "outputs": [
      {
       "output_type": "pyout",
       "prompt_number": 74,
       "text": [
        "KNeighborsClassifier(algorithm='auto', leaf_size=30, n_neighbors=3, p=2,\n",
        "           weights='uniform')"
       ]
      }
     ],
     "prompt_number": 74
    },
    {
     "cell_type": "code",
     "collapsed": false,
     "input": [
      "knn.predict(X_train)"
     ],
     "language": "python",
     "metadata": {
      "slideshow": {
       "slide_type": "fragment"
      }
     },
     "outputs": [
      {
       "output_type": "pyout",
       "prompt_number": 75,
       "text": [
        "array([9, 0, 1, ..., 3, 5, 3])"
       ]
      }
     ],
     "prompt_number": 75
    },
    {
     "cell_type": "code",
     "collapsed": false,
     "input": [
      "knn.score(X_train, y_train)"
     ],
     "language": "python",
     "metadata": {
      "slideshow": {
       "slide_type": "fragment"
      }
     },
     "outputs": [
      {
       "output_type": "pyout",
       "prompt_number": 76,
       "text": [
        "0.99109131403118045"
       ]
      }
     ],
     "prompt_number": 76
    },
    {
     "cell_type": "code",
     "collapsed": false,
     "input": [
      "knn.score(X_test, y_test)"
     ],
     "language": "python",
     "metadata": {
      "slideshow": {
       "slide_type": "fragment"
      }
     },
     "outputs": [
      {
       "output_type": "pyout",
       "prompt_number": 77,
       "text": [
        "0.98888888888888893"
       ]
      }
     ],
     "prompt_number": 77
    },
    {
     "cell_type": "markdown",
     "metadata": {
      "slideshow": {
       "slide_type": "slide"
      }
     },
     "source": [
      "More trendy: Random Forests\n",
      "============================\n",
      "Also known as bagged decision trees."
     ]
    },
    {
     "cell_type": "code",
     "collapsed": false,
     "input": [
      "from sklearn.ensemble import RandomForestClassifier\n"
     ],
     "language": "python",
     "metadata": {
      "slideshow": {
       "slide_type": "fragment"
      }
     },
     "outputs": [],
     "prompt_number": 78
    },
    {
     "cell_type": "code",
     "collapsed": false,
     "input": [
      "clf = RandomForestClassifier()\n",
      "clf.fit(X_train, y_train)"
     ],
     "language": "python",
     "metadata": {
      "slideshow": {
       "slide_type": "fragment"
      }
     },
     "outputs": [
      {
       "output_type": "pyout",
       "prompt_number": 79,
       "text": [
        "RandomForestClassifier(bootstrap=True, compute_importances=False,\n",
        "            criterion='gini', max_depth=None, max_features='auto',\n",
        "            min_density=0.1, min_samples_leaf=1, min_samples_split=2,\n",
        "            n_estimators=10, n_jobs=1, oob_score=False, random_state=None,\n",
        "            verbose=0)"
       ]
      }
     ],
     "prompt_number": 79
    },
    {
     "cell_type": "code",
     "collapsed": false,
     "input": [
      "clf.score(X_train, y_train)"
     ],
     "language": "python",
     "metadata": {
      "slideshow": {
       "slide_type": "fragment"
      }
     },
     "outputs": [
      {
       "output_type": "pyout",
       "prompt_number": 82,
       "text": [
        "1.0"
       ]
      }
     ],
     "prompt_number": 82
    },
    {
     "cell_type": "code",
     "collapsed": false,
     "input": [
      "clf.score(X_test, y_test)"
     ],
     "language": "python",
     "metadata": {
      "slideshow": {
       "slide_type": "fragment"
      }
     },
     "outputs": [
      {
       "output_type": "pyout",
       "prompt_number": 83,
       "text": [
        "0.93777777777777782"
       ]
      }
     ],
     "prompt_number": 83
    },
    {
     "cell_type": "markdown",
     "metadata": {
      "slideshow": {
       "slide_type": "slide"
      }
     },
     "source": [
      "Detecting Insults in Social Commentary\n",
      "======================================\n",
      "* My first (and only) kaggle entry.\n",
      "* Classify short forum posts as insulting or not.\n",
      "* A simple bag of word model carries quite far.\n",
      "* Linear classifiers are usually the best for text data.\n"
     ]
    },
    {
     "cell_type": "markdown",
     "metadata": {
      "slideshow": {
       "slide_type": "fragment"
      }
     },
     "source": [
      "Read the CSV using Pandas (a bit overkill)."
     ]
    },
    {
     "cell_type": "code",
     "collapsed": false,
     "input": [
      "import pandas as pd\n",
      "train_data = pd.read_csv(\"kaggle_insult/train.csv\")\n",
      "test_data = pd.read_csv(\"kaggle_insult/test_with_solutions.csv\")"
     ],
     "language": "python",
     "metadata": {
      "slideshow": {
       "slide_type": "fragment"
      }
     },
     "outputs": [],
     "prompt_number": 29
    },
    {
     "cell_type": "markdown",
     "metadata": {
      "slideshow": {
       "slide_type": "slide"
      }
     },
     "source": [
      "* The column \"Insult\" contains the target.\n",
      "* The column \"Comment\" contains the text."
     ]
    },
    {
     "cell_type": "code",
     "collapsed": false,
     "input": [
      "y_train = np.array(train_data.Insult)\n",
      "comments_train = np.array(train_data.Comment)\n",
      "print(comments_train.shape)\n",
      "print(y_train.shape)"
     ],
     "language": "python",
     "metadata": {
      "slideshow": {
       "slide_type": "fragment"
      }
     },
     "outputs": [
      {
       "output_type": "stream",
       "stream": "stdout",
       "text": [
        "(3947,)\n",
        "(3947,)\n"
       ]
      }
     ],
     "prompt_number": 30
    },
    {
     "cell_type": "code",
     "collapsed": false,
     "input": [
      "print(comments_train[0])\n",
      "print(\"Insult: %d\" % y_train[0])"
     ],
     "language": "python",
     "metadata": {
      "slideshow": {
       "slide_type": "fragment"
      }
     },
     "outputs": [
      {
       "output_type": "stream",
       "stream": "stdout",
       "text": [
        "\"You fuck your dad.\"\n",
        "Insult: 1\n"
       ]
      }
     ],
     "prompt_number": 31
    },
    {
     "cell_type": "code",
     "collapsed": false,
     "input": [
      "print(comments_train[5])\n",
      "print(\"Insult: %d\" % y_train[5])"
     ],
     "language": "python",
     "metadata": {
      "slideshow": {
       "slide_type": "fragment"
      }
     },
     "outputs": [
      {
       "output_type": "stream",
       "stream": "stdout",
       "text": [
        "\"@SDL OK, but I would hope they'd sign him to a one-year contract to start with. Give him the chance to be reliable and productive, but give themselves the out if all his time off has hurt his playing skills or if he falls back into old habits.\"\n",
        "Insult: 0\n"
       ]
      }
     ],
     "prompt_number": 32
    },
    {
     "cell_type": "markdown",
     "metadata": {
      "slideshow": {
       "slide_type": "slide"
      }
     },
     "source": [
      "Vectorizing the Data\n",
      "===================="
     ]
    },
    {
     "cell_type": "code",
     "collapsed": false,
     "input": [
      "from sklearn.feature_extraction.text import CountVectorizer"
     ],
     "language": "python",
     "metadata": {},
     "outputs": [],
     "prompt_number": 33
    },
    {
     "cell_type": "markdown",
     "metadata": {
      "slideshow": {
       "slide_type": "fragment"
      }
     },
     "source": [
      "* Use bag of words model as implemented in CountVectorizer.\n",
      "* Extracts a dictionary, then counts word occurences."
     ]
    },
    {
     "cell_type": "code",
     "collapsed": false,
     "input": [
      "cv = CountVectorizer()\n",
      "cv.fit(comments_train)\n",
      "print(cv.get_feature_names()[:15])"
     ],
     "language": "python",
     "metadata": {
      "slideshow": {
       "slide_type": "fragment"
      }
     },
     "outputs": [
      {
       "output_type": "stream",
       "stream": "stdout",
       "text": [
        "[u'00', u'000', u'01', u'014', u'01k4wu4w', u'02', u'034', u'05', u'06', u'0612', u'07', u'075', u'08', u'09', u'0bama']\n"
       ]
      }
     ],
     "prompt_number": 34
    },
    {
     "cell_type": "code",
     "collapsed": false,
     "input": [
      "print(cv.get_feature_names()[1000:1015])"
     ],
     "language": "python",
     "metadata": {
      "slideshow": {
       "slide_type": "fragment"
      }
     },
     "outputs": [
      {
       "output_type": "stream",
       "stream": "stdout",
       "text": [
        "[u'argue', u'argued', u'arguement', u'arguements', u'arguing', u'argument', u'arguments', u'aries', u'aristocracy', u'aritculett', u'arizona', u'arkan', u'arlington', u'arm', u'armando']\n"
       ]
      }
     ],
     "prompt_number": 35
    },
    {
     "cell_type": "code",
     "collapsed": false,
     "input": [
      "X_train = cv.transform(comments_train).tocsr()\n",
      "print(\"X_train.shape: %s\" % str(X_train.shape))\n",
      "print(X_train[0, :])"
     ],
     "language": "python",
     "metadata": {
      "slideshow": {
       "slide_type": "fragment"
      }
     },
     "outputs": [
      {
       "output_type": "stream",
       "stream": "stdout",
       "text": [
        "X_train.shape: (3947, 16469)\n",
        "  (0, 3409)\t1\n",
        "  (0, 5434)\t1\n",
        "  (0, 16397)\t1\n",
        "  (0, 16405)\t1\n"
       ]
      }
     ],
     "prompt_number": 36
    },
    {
     "cell_type": "markdown",
     "metadata": {
      "slideshow": {
       "slide_type": "slide"
      }
     },
     "source": [
      "Training a Classifier\n",
      "======================\n",
      "* LinearSVC : linear SVM that is efficient for sparse data."
     ]
    },
    {
     "cell_type": "code",
     "collapsed": false,
     "input": [
      "from sklearn.svm import LinearSVC\n",
      "svm = LinearSVC()\n",
      "svm.fit(X_train, y_train)"
     ],
     "language": "python",
     "metadata": {
      "slideshow": {
       "slide_type": "fragment"
      }
     },
     "outputs": [
      {
       "output_type": "pyout",
       "prompt_number": 37,
       "text": [
        "LinearSVC(C=1.0, class_weight=None, dual=True, fit_intercept=True,\n",
        "     intercept_scaling=1, loss='l2', multi_class='ovr', penalty='l2',\n",
        "     random_state=None, tol=0.0001, verbose=0)"
       ]
      }
     ],
     "prompt_number": 37
    },
    {
     "cell_type": "code",
     "collapsed": false,
     "input": [
      "comments_test = np.array(test_data.Comment)\n",
      "y_test = np.array(test_data.Insult)\n",
      "X_test = cv.transform(comments_test)\n",
      "svm.score(X_test, y_test)"
     ],
     "language": "python",
     "metadata": {
      "slideshow": {
       "slide_type": "fragment"
      }
     },
     "outputs": [
      {
       "output_type": "pyout",
       "prompt_number": 38,
       "text": [
        "0.83037400831129582"
       ]
      }
     ],
     "prompt_number": 38
    },
    {
     "cell_type": "code",
     "collapsed": false,
     "input": [
      "print(comments_test[8])\n",
      "print(\"Target: %d, prediction: %d\" % (y_test[8], svm.predict(X_test.tocsr()[8])[0]))"
     ],
     "language": "python",
     "metadata": {
      "slideshow": {
       "slide_type": "fragment"
      }
     },
     "outputs": [
      {
       "output_type": "stream",
       "stream": "stdout",
       "text": [
        "\"To engage in an intelligent debate with you is like debating to a retarded person.  It's useless.  It looks like you're bent on disregarding the efforts of the government.\"\n",
        "Target: 1, prediction: 1\n"
       ]
      }
     ],
     "prompt_number": 39
    },
    {
     "cell_type": "markdown",
     "metadata": {
      "slideshow": {
       "slide_type": "slide"
      }
     },
     "source": [
      "Model Selection and Evaluation\n",
      "==============================\n",
      "**Always** keep a separate test set to the end.\n",
      "-----------------------------------------------\n",
      "* Measure performance using cross-validation"
     ]
    },
    {
     "cell_type": "code",
     "collapsed": false,
     "input": [
      "from sklearn.cross_validation import cross_val_score\n",
      "scores =  cross_val_score(svm, X_train, y_train, cv=5)\n",
      "print(\"scores: %s  mean: %f  std: %f\" % (str(scores), np.mean(scores), np.std(scores)))"
     ],
     "language": "python",
     "metadata": {
      "slideshow": {
       "slide_type": "fragment"
      }
     },
     "outputs": [
      {
       "output_type": "stream",
       "stream": "stdout",
       "text": [
        "scores: [ 0.82405063  0.80253165  0.82382763  0.83016477  0.81875792]  mean: 0.819867  std: 0.009391\n"
       ]
      }
     ],
     "prompt_number": 40
    },
    {
     "cell_type": "markdown",
     "metadata": {
      "slideshow": {
       "slide_type": "slide"
      }
     },
     "source": [
      "Adjust important parameters using grid search\n",
      "----------------------------------------------\n",
      "* For linear SVMs, that is just ``C``.\n",
      "* We could search over feature extraction (another day)."
     ]
    },
    {
     "cell_type": "code",
     "collapsed": false,
     "input": [
      "from sklearn.grid_search import GridSearchCV\n",
      "param_grid = {'C': 10. ** np.arange(-4, 3)}\n",
      "grid_search = GridSearchCV(LinearSVC(), param_grid=param_grid, verbose=3, compute_training_score=True)"
     ],
     "language": "python",
     "metadata": {
      "slideshow": {
       "slide_type": "fragment"
      }
     },
     "outputs": [],
     "prompt_number": 50
    },
    {
     "cell_type": "code",
     "collapsed": false,
     "input": [
      "grid_search.fit(X_train, y_train)"
     ],
     "language": "python",
     "metadata": {
      "slideshow": {
       "slide_type": "slide"
      }
     },
     "outputs": [
      {
       "output_type": "stream",
       "stream": "stdout",
       "text": [
        "[GridSearchCV] C=0.0001 ........................................................\n",
        "[GridSearchCV] ............................... C=0.0001, score=0.749240 -   0.3s"
       ]
      },
      {
       "output_type": "stream",
       "stream": "stdout",
       "text": [
        "\n",
        "[GridSearchCV] C=0.0001 ........................................................\n",
        "[GridSearchCV] ............................... C=0.0001, score=0.742401 -   0.3s"
       ]
      },
      {
       "output_type": "stream",
       "stream": "stdout",
       "text": [
        "\n",
        "[GridSearchCV] C=0.0001 ........................................................\n",
        "[GridSearchCV] ............................... C=0.0001, score=0.744487 -   0.3s"
       ]
      },
      {
       "output_type": "stream",
       "stream": "stdout",
       "text": [
        "\n",
        "[GridSearchCV] C=0.001 .........................................................\n",
        "[GridSearchCV] ................................ C=0.001, score=0.763678 -   0.3s"
       ]
      },
      {
       "output_type": "stream",
       "stream": "stdout",
       "text": [
        "\n",
        "[GridSearchCV] C=0.001 .........................................................\n",
        "[GridSearchCV] ................................ C=0.001, score=0.781155 -   0.3s"
       ]
      },
      {
       "output_type": "stream",
       "stream": "stdout",
       "text": [
        "\n",
        "[GridSearchCV] C=0.001 .........................................................\n",
        "[GridSearchCV] ................................ C=0.001, score=0.760456 -   0.3s"
       ]
      },
      {
       "output_type": "stream",
       "stream": "stdout",
       "text": [
        "\n",
        "[GridSearchCV] C=0.01 ..........................................................\n",
        "[GridSearchCV] ................................. C=0.01, score=0.813070 -   0.3s"
       ]
      },
      {
       "output_type": "stream",
       "stream": "stdout",
       "text": [
        "\n",
        "[GridSearchCV] C=0.01 ..........................................................\n",
        "[GridSearchCV] ................................. C=0.01, score=0.832827 -   0.3s"
       ]
      },
      {
       "output_type": "stream",
       "stream": "stdout",
       "text": [
        "\n",
        "[GridSearchCV] C=0.01 ..........................................................\n",
        "[GridSearchCV] ................................. C=0.01, score=0.809125 -   0.3s"
       ]
      },
      {
       "output_type": "stream",
       "stream": "stdout",
       "text": [
        "\n",
        "[GridSearchCV] C=0.1 ...........................................................\n",
        "[GridSearchCV] .................................. C=0.1, score=0.823708 -   0.3s"
       ]
      },
      {
       "output_type": "stream",
       "stream": "stdout",
       "text": [
        "\n",
        "[GridSearchCV] C=0.1 ...........................................................\n",
        "[GridSearchCV] .................................. C=0.1, score=0.838906 -   0.3s"
       ]
      },
      {
       "output_type": "stream",
       "stream": "stdout",
       "text": [
        "\n",
        "[GridSearchCV] C=0.1 ...........................................................\n",
        "[GridSearchCV] .................................. C=0.1, score=0.831939 -   0.3s"
       ]
      },
      {
       "output_type": "stream",
       "stream": "stdout",
       "text": [
        "\n",
        "[GridSearchCV] C=1.0 ...........................................................\n",
        "[GridSearchCV] .................................. C=1.0, score=0.819909 -   0.4s"
       ]
      },
      {
       "output_type": "stream",
       "stream": "stdout",
       "text": [
        "\n",
        "[GridSearchCV] C=1.0 ...........................................................\n",
        "[GridSearchCV] .................................. C=1.0, score=0.822188 -   0.3s"
       ]
      },
      {
       "output_type": "stream",
       "stream": "stdout",
       "text": [
        "\n",
        "[GridSearchCV] C=1.0 ...........................................................\n",
        "[GridSearchCV] .................................. C=1.0, score=0.815970 -   0.3s"
       ]
      },
      {
       "output_type": "stream",
       "stream": "stdout",
       "text": [
        "\n",
        "[GridSearchCV] C=10.0 ..........................................................\n",
        "[GridSearchCV] ................................. C=10.0, score=0.815350 -   0.4s"
       ]
      },
      {
       "output_type": "stream",
       "stream": "stdout",
       "text": [
        "\n",
        "[GridSearchCV] C=10.0 ..........................................................\n",
        "[GridSearchCV] ................................. C=10.0, score=0.821429 -   0.4s"
       ]
      },
      {
       "output_type": "stream",
       "stream": "stdout",
       "text": [
        "\n",
        "[GridSearchCV] C=10.0 ..........................................................\n",
        "[GridSearchCV] ................................. C=10.0, score=0.806844 -   0.4s"
       ]
      },
      {
       "output_type": "stream",
       "stream": "stdout",
       "text": [
        "\n",
        "[GridSearchCV] C=100.0 .........................................................\n",
        "[GridSearchCV] ................................ C=100.0, score=0.803951 -   0.4s"
       ]
      },
      {
       "output_type": "stream",
       "stream": "stdout",
       "text": [
        "\n",
        "[GridSearchCV] C=100.0 .........................................................\n",
        "[GridSearchCV] ................................ C=100.0, score=0.814590 -   0.4s"
       ]
      },
      {
       "output_type": "stream",
       "stream": "stdout",
       "text": [
        "\n",
        "[GridSearchCV] C=100.0 .........................................................\n",
        "[GridSearchCV] ................................ C=100.0, score=0.803042 -   0.4s"
       ]
      },
      {
       "output_type": "stream",
       "stream": "stderr",
       "text": [
        "[Parallel(n_jobs=1)]: Done   1 jobs       | elapsed:    0.3s\n",
        "[Parallel(n_jobs=1)]: Done  21 out of  21 | elapsed:    7.2s finished\n"
       ]
      },
      {
       "output_type": "stream",
       "stream": "stdout",
       "text": [
        "\n"
       ]
      },
      {
       "output_type": "pyout",
       "prompt_number": 51,
       "text": [
        "GridSearchCV(compute_training_score=True, cv=None,\n",
        "       estimator=LinearSVC(C=1.0, class_weight=None, dual=True, fit_intercept=True,\n",
        "     intercept_scaling=1, loss='l2', multi_class='ovr', penalty='l2',\n",
        "     random_state=None, tol=0.0001, verbose=0),\n",
        "       fit_params={}, iid=True, loss_func=None, n_jobs=1,\n",
        "       param_grid={'C': array([  1.00000e-04,   1.00000e-03,   1.00000e-02,   1.00000e-01,\n",
        "         1.00000e+00,   1.00000e+01,   1.00000e+02])},\n",
        "       pre_dispatch='2*n_jobs', refit=True, score_func=None, scoring=None,\n",
        "       verbose=3)"
       ]
      }
     ],
     "prompt_number": 51
    },
    {
     "cell_type": "code",
     "collapsed": false,
     "input": [
      "print(grid_search.best_params_)\n",
      "print(grid_search.best_score_)"
     ],
     "language": "python",
     "metadata": {
      "slideshow": {
       "slide_type": "slide"
      }
     },
     "outputs": [
      {
       "output_type": "stream",
       "stream": "stdout",
       "text": [
        "{'C': 0.10000000000000001}\n",
        "0.83151760831\n"
       ]
      }
     ],
     "prompt_number": 52
    },
    {
     "cell_type": "code",
     "collapsed": false,
     "input": [
      "plt.plot([c.mean_test_score for c in grid_search.cv_scores_], label=\"validation error\")\n",
      "plt.plot([c.mean_training_score for c in grid_search.cv_scores_], label=\"training error\")\n",
      "plt.xticks(np.arange(6), param_grid['C'])\n",
      "plt.xlabel(\"C\")\n",
      "plt.ylabel(\"Accuracy\")\n",
      "plt.legend(loc='best')"
     ],
     "language": "python",
     "metadata": {
      "slideshow": {
       "slide_type": "fragment"
      }
     },
     "outputs": [
      {
       "output_type": "pyout",
       "prompt_number": 57,
       "text": [
        "<matplotlib.legend.Legend at 0x69fe350>"
       ]
      },
      {
       "output_type": "display_data",
       "png": "[encoded data removed]",
       "text": [
        "<matplotlib.figure.Figure at 0x5edcf90>"
       ]
      }
     ],
     "prompt_number": 57
    },
    {
     "cell_type": "markdown",
     "metadata": {
      "slideshow": {
       "slide_type": "slide"
      }
     },
     "source": [
      "Overfitting and Complexity Control\n",
      "==================================\n",
      "* to the right: overfitting aka high variance.\n",
      "    - Means no generalization.\n",
      "    \n",
      "* to the left: underfitting aka high bias.\n",
      "    - Means bad even on training set.\n"
     ]
    },
    {
     "cell_type": "code",
     "collapsed": false,
     "input": [
      "plt.plot([c.mean_test_score for c in grid_search.cv_scores_], label=\"validation error\")\n",
      "plt.plot([c.mean_training_score for c in grid_search.cv_scores_], label=\"training error\")\n",
      "plt.xticks(np.arange(6), param_grid['C'])\n",
      "plt.xlabel(\"C\")\n",
      "plt.ylabel(\"Accuracy\")\n",
      "plt.legend(loc='best')"
     ],
     "language": "python",
     "metadata": {},
     "outputs": [
      {
       "output_type": "pyout",
       "prompt_number": 58,
       "text": [
        "<matplotlib.legend.Legend at 0x6c10250>"
       ]
      },
      {
       "output_type": "display_data",
       "png": "[encoded data removed]",
       "text": [
        "<matplotlib.figure.Figure at 0x56bea90>"
       ]
      }
     ],
     "prompt_number": 58
    },
    {
     "cell_type": "code",
     "collapsed": false,
     "input": [],
     "language": "python",
     "metadata": {},
     "outputs": [],
     "prompt_number": 45
    }
   ],
   "metadata": {}
  }
 ]
}